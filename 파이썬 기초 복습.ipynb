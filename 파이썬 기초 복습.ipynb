{
 "cells": [
  {
   "cell_type": "markdown",
   "metadata": {},
   "source": [
    "#### 정수 나누기 연산자: //"
   ]
  },
  {
   "cell_type": "code",
   "execution_count": 1,
   "metadata": {},
   "outputs": [
    {
     "data": {
      "text/plain": [
       "1.5"
      ]
     },
     "execution_count": 1,
     "metadata": {},
     "output_type": "execute_result"
    }
   ],
   "source": [
    "3 / 2"
   ]
  },
  {
   "cell_type": "code",
   "execution_count": 2,
   "metadata": {},
   "outputs": [
    {
     "data": {
      "text/plain": [
       "1"
      ]
     },
     "execution_count": 2,
     "metadata": {},
     "output_type": "execute_result"
    }
   ],
   "source": [
    "3 // 2"
   ]
  },
  {
   "cell_type": "code",
   "execution_count": 3,
   "metadata": {},
   "outputs": [
    {
     "data": {
      "text/plain": [
       "2"
      ]
     },
     "execution_count": 3,
     "metadata": {},
     "output_type": "execute_result"
    }
   ],
   "source": [
    "5 // 2"
   ]
  },
  {
   "cell_type": "markdown",
   "metadata": {},
   "source": [
    "#### 나머지 연산자: %"
   ]
  },
  {
   "cell_type": "code",
   "execution_count": 4,
   "metadata": {},
   "outputs": [
    {
     "data": {
      "text/plain": [
       "1"
      ]
     },
     "execution_count": 4,
     "metadata": {},
     "output_type": "execute_result"
    }
   ],
   "source": [
    "3 % 2"
   ]
  },
  {
   "cell_type": "code",
   "execution_count": 5,
   "metadata": {},
   "outputs": [
    {
     "data": {
      "text/plain": [
       "1"
      ]
     },
     "execution_count": 5,
     "metadata": {},
     "output_type": "execute_result"
    }
   ],
   "source": [
    "5 % 2"
   ]
  },
  {
   "cell_type": "code",
   "execution_count": 6,
   "metadata": {},
   "outputs": [
    {
     "data": {
      "text/plain": [
       "0"
      ]
     },
     "execution_count": 6,
     "metadata": {},
     "output_type": "execute_result"
    }
   ],
   "source": [
    "6 % 2"
   ]
  },
  {
   "cell_type": "markdown",
   "metadata": {},
   "source": [
    "#### 제곱 연산자: **"
   ]
  },
  {
   "cell_type": "code",
   "execution_count": 7,
   "metadata": {},
   "outputs": [
    {
     "data": {
      "text/plain": [
       "9"
      ]
     },
     "execution_count": 7,
     "metadata": {},
     "output_type": "execute_result"
    }
   ],
   "source": [
    "3 ** 2"
   ]
  },
  {
   "cell_type": "code",
   "execution_count": 8,
   "metadata": {},
   "outputs": [
    {
     "data": {
      "text/plain": [
       "8"
      ]
     },
     "execution_count": 8,
     "metadata": {},
     "output_type": "execute_result"
    }
   ],
   "source": [
    "2 ** 3"
   ]
  },
  {
   "cell_type": "markdown",
   "metadata": {},
   "source": [
    "#### 문자열의 format()함수"
   ]
  },
  {
   "cell_type": "code",
   "execution_count": 12,
   "metadata": {},
   "outputs": [
    {
     "name": "stdout",
     "output_type": "stream",
     "text": [
      "10\n",
      "<class 'str'>\n"
     ]
    }
   ],
   "source": [
    "string_a = '{}'.format(10)\n",
    "print(string_a)\n",
    "print(type(string_a))"
   ]
  },
  {
   "cell_type": "code",
   "execution_count": 16,
   "metadata": {},
   "outputs": [
    {
     "name": "stdout",
     "output_type": "stream",
     "text": [
      "5000만원\n",
      "300040005000\n",
      "3000 4000 5000\n",
      "1 문자열 True\n"
     ]
    }
   ],
   "source": [
    "format_a = '{}만원'.format(5000)\n",
    "format_b = '{}{}{}'.format(3000, 4000, 5000)\n",
    "format_c = '{} {} {}'.format(3000, 4000, 5000)\n",
    "format_d = '{} {} {}'.format(1, '문자열', True)\n",
    "\n",
    "print(format_a)\n",
    "print(format_b)\n",
    "print(format_c)\n",
    "print(format_d)"
   ]
  },
  {
   "cell_type": "code",
   "execution_count": 18,
   "metadata": {},
   "outputs": [
    {
     "name": "stdout",
     "output_type": "stream",
     "text": [
      "#기본\n",
      "52\n",
      "#특정 칸에 출력\n",
      "   52\n",
      "        52\n",
      "#빈칸을 0으로 채우기\n",
      "00052\n",
      "-0052\n",
      "#기호\n",
      "+52\n",
      " 52\n"
     ]
    }
   ],
   "source": [
    "# 정수\n",
    "output_a = '{:d}'.format(52)\n",
    "\n",
    "# 특정 칸에 출력\n",
    "output_b = '{:5d}'.format(52)     # 5칸\n",
    "output_c = '{:10d}'.format(52)     # 10칸\n",
    "\n",
    "# 빈칸을 0으로 채우기\n",
    "output_d = '{:05d}'.format(52)     # 양수\n",
    "output_e = '{:05d}'.format(-52)     # 음수\n",
    "\n",
    "# 기호\n",
    "output_f = '{:+d}'.format(52)\n",
    "output_g = '{: d}'.format(52)\n",
    "\n",
    "print('#기본')\n",
    "print(output_a)\n",
    "print('#특정 칸에 출력')\n",
    "print(output_b)\n",
    "print(output_c)\n",
    "print('#빈칸을 0으로 채우기')\n",
    "print(output_d)\n",
    "print(output_e)\n",
    "print('#기호')\n",
    "print(output_f)\n",
    "print(output_g)"
   ]
  },
  {
   "cell_type": "code",
   "execution_count": 21,
   "metadata": {},
   "outputs": [
    {
     "name": "stdout",
     "output_type": "stream",
     "text": [
      "52.273000\n",
      "      52.273000\n",
      "     +52.273000\n",
      "+0000052.273000\n",
      "         52.273\n",
      "          52.27\n"
     ]
    }
   ],
   "source": [
    "output_a = '{:f}'.format(52.273)\n",
    "output_b = '{:15f}'.format(52.273)     # 15칸 만들기\n",
    "output_c = '{:+15f}'.format(52.273)     # 15칸에 부호 추가하기\n",
    "output_d = '{:+015f}'.format(52.273)     # 15칸에 부호 추가하고 0으로 채우기\n",
    "output_e = '{:15.3f}'.format(52.273)     # 소수점 3째자리까지\n",
    "output_f = '{:15.2f}'.format(52.273)     # 소수점 2쨰자리까지. 반올림됨\n",
    "\n",
    "print(output_a)\n",
    "print(output_b)\n",
    "print(output_c)\n",
    "print(output_d)\n",
    "print(output_e)\n",
    "print(output_f)"
   ]
  },
  {
   "cell_type": "code",
   "execution_count": 22,
   "metadata": {},
   "outputs": [
    {
     "name": "stdout",
     "output_type": "stream",
     "text": [
      "52\n"
     ]
    }
   ],
   "source": [
    "# 의미없는 소수점 제거\n",
    "output_a = '{:g}'.format(52.00)\n",
    "print(output_a)"
   ]
  },
  {
   "cell_type": "markdown",
   "metadata": {},
   "source": [
    "#### 대문자:upper(), 소문자: lower()"
   ]
  },
  {
   "cell_type": "code",
   "execution_count": 23,
   "metadata": {},
   "outputs": [
    {
     "name": "stdout",
     "output_type": "stream",
     "text": [
      "HELLO PYTHON PROGRAMMING\n",
      "hello python programming\n"
     ]
    }
   ],
   "source": [
    "a = 'Hello Python Programming'\n",
    "print(a.upper())\n",
    "print(a.lower())"
   ]
  },
  {
   "cell_type": "markdown",
   "metadata": {},
   "source": [
    "#### 문자열 양옆의 공백 제거: strip()\n",
    "#### 문자열 왼쪽의 공백 제거: lstrip()\n",
    "#### 문자열 오른쪽 공백 제거: rstrip()"
   ]
  },
  {
   "cell_type": "code",
   "execution_count": 25,
   "metadata": {},
   "outputs": [
    {
     "name": "stdout",
     "output_type": "stream",
     "text": [
      "hello python\n",
      "hello python     \n",
      "     hello python\n"
     ]
    }
   ],
   "source": [
    "input_a = \"     hello python     \"\n",
    "print(input_a.strip())\n",
    "print(input_a.lstrip())\n",
    "print(input_a.rstrip())"
   ]
  },
  {
   "cell_type": "markdown",
   "metadata": {},
   "source": [
    "#### 문자열 찾기: find(), rfind()\n",
    "#### 문자열과 in연산자"
   ]
  },
  {
   "cell_type": "code",
   "execution_count": 26,
   "metadata": {},
   "outputs": [
    {
     "name": "stdout",
     "output_type": "stream",
     "text": [
      "0\n",
      "2\n",
      "True\n"
     ]
    }
   ],
   "source": [
    "output_a = '안녕안녕하세요'.find('안녕')     # 왼쪽부터 찾아서 처음 등장하는 위치를 찾음\n",
    "output_b = '안녕안녕하세요'.rfind('안녕')     # 오른쪽부터 찾아서 처음 등장하는 위치를 찾음\n",
    "print(output_a)\n",
    "print(output_b)\n",
    "print('안녕' in '안녕하세요')"
   ]
  },
  {
   "cell_type": "markdown",
   "metadata": {},
   "source": [
    "#### 문자열 자르기: split()"
   ]
  },
  {
   "cell_type": "code",
   "execution_count": 27,
   "metadata": {},
   "outputs": [
    {
     "name": "stdout",
     "output_type": "stream",
     "text": [
      "['10', '20', '30', '40', '50']\n"
     ]
    }
   ],
   "source": [
    "a = '10 20 30 40 50'.split(' ')     # 공백을 기준으로 자름\n",
    "print(a)"
   ]
  },
  {
   "cell_type": "code",
   "execution_count": 31,
   "metadata": {},
   "outputs": [
    {
     "name": "stdout",
     "output_type": "stream",
     "text": [
      "100\n",
      "200\n",
      "\n",
      "100 + 200 = 300\n"
     ]
    }
   ],
   "source": [
    "a = input('')\n",
    "b = input('')\n",
    "print()\n",
    "print('{} + {} = {}'.format(int(a), int(b), int(a)+int(b)))"
   ]
  },
  {
   "cell_type": "markdown",
   "metadata": {},
   "source": [
    "- 들여쓰기: tab키\n",
    "- 들여쓰기 제거: shift + tab\n",
    "- 여러줄 한번에 들여쓰기: 여러줄 선택 후 tab\n",
    "- 여러줄 안번에 들여쓰기 제거: 여러줄 선택 후 shift + tab"
   ]
  },
  {
   "cell_type": "markdown",
   "metadata": {},
   "source": [
    "#### 날짜/시간 출력"
   ]
  },
  {
   "cell_type": "code",
   "execution_count": 6,
   "metadata": {},
   "outputs": [
    {
     "name": "stdout",
     "output_type": "stream",
     "text": [
      "2022 년\n",
      "1 월\n",
      "4 일\n",
      "11 시\n",
      "14 분\n",
      "20 초\n",
      "2022년 1월 4일 11시 14분 20초\n"
     ]
    }
   ],
   "source": [
    "import datetime\n",
    "\n",
    "now = datetime.datetime.now()     # 현재 날짜와 시간\n",
    "\n",
    "print(now.year, '년')\n",
    "print(now.month, '월')\n",
    "print(now.day, '일')\n",
    "print(now.hour, '시')\n",
    "print(now.minute, '분')\n",
    "print(now.second, '초')\n",
    "\n",
    "print('{}년 {}월 {}일 {}시 {}분 {}초'.format(now.year, now.month, now.day, now.hour, now.minute, now.second))"
   ]
  },
  {
   "cell_type": "markdown",
   "metadata": {},
   "source": [
    "#### 오전, 오후 구분"
   ]
  },
  {
   "cell_type": "code",
   "execution_count": 7,
   "metadata": {},
   "outputs": [
    {
     "name": "stdout",
     "output_type": "stream",
     "text": [
      "현재 시각은 11시로 오전입니다!\n"
     ]
    }
   ],
   "source": [
    "import datetime\n",
    "\n",
    "now = datetime.datetime.now()\n",
    "\n",
    "if now.hour < 12:\n",
    "    print('현재 시각은 {}시로 오전입니다!'.format(now.hour))\n",
    "else:\n",
    "    print('현재 시각은 {}시로 오후입니다!'.format(now.hour))"
   ]
  },
  {
   "cell_type": "markdown",
   "metadata": {},
   "source": [
    "#### 계절 구분"
   ]
  },
  {
   "cell_type": "code",
   "execution_count": 8,
   "metadata": {},
   "outputs": [
    {
     "name": "stdout",
     "output_type": "stream",
     "text": [
      "이번 달은 1월로 겨울입니다!\n"
     ]
    }
   ],
   "source": [
    "import datetime\n",
    "\n",
    "now = datetime.datetime.now()\n",
    "\n",
    "if 3 <= now.month <= 5:\n",
    "    print('이번 달은 {}월로 봄입니다!'.format(now.month))\n",
    "elif 6 <= now.month <= 8:\n",
    "    print('이번 달은 {}월로 여름입니다!'.format(now.month))\n",
    "elif 9 <= now.month <= 11:\n",
    "    print('이번 달은 {}월로 가을입니다!'.format(now.month))\n",
    "else:\n",
    "    print('이번 달은 {}월로 겨울입니다!'.format(now.month))"
   ]
  },
  {
   "cell_type": "markdown",
   "metadata": {},
   "source": [
    "#### 홀수, 짝수 구분"
   ]
  },
  {
   "cell_type": "code",
   "execution_count": 10,
   "metadata": {},
   "outputs": [
    {
     "name": "stdout",
     "output_type": "stream",
     "text": [
      "정수 입력: 7\n",
      "홀수\n"
     ]
    }
   ],
   "source": [
    "number = int(input('정수 입력: '))\n",
    "\n",
    "if number % 2 == 0:     # 2로 나눈 나머지가 0이면 짝수, 아니면 홀수\n",
    "    print('짝수')\n",
    "else:\n",
    "    print('홀수')"
   ]
  },
  {
   "cell_type": "markdown",
   "metadata": {},
   "source": [
    "#### 리스트에 요소 추가: append, insert, extend\n",
    "- 리스트명.append(요소): 리스트 뒤에 요소 추가\n",
    "- 리스트명.insert(위치, 요소): 리스트 중간에 요소 추가\n",
    "- 리스트명.extend([여러 요소]): 리스트에 한번에 여러 요소 추가"
   ]
  },
  {
   "cell_type": "code",
   "execution_count": 12,
   "metadata": {},
   "outputs": [
    {
     "name": "stdout",
     "output_type": "stream",
     "text": [
      "[1, 2, 3, 4, 5]\n",
      "\n",
      "[10, 1, 2, 3, 4, 5]\n",
      "\n",
      "[10, 1, 2, 3, 4, 5, 6, 7, 8]\n"
     ]
    }
   ],
   "source": [
    "list_a = [1, 2, 3]\n",
    "\n",
    "list_a.append(4)\n",
    "list_a.append(5)\n",
    "print(list_a)\n",
    "\n",
    "print()\n",
    "\n",
    "list_a.insert(0, 10)\n",
    "print(list_a)\n",
    "\n",
    "print()\n",
    "\n",
    "list_a.extend([6, 7, 8])\n",
    "print(list_a)"
   ]
  },
  {
   "cell_type": "markdown",
   "metadata": {},
   "source": [
    "#### 리스트 요소 제거: del, pop, remove, clear\n",
    "- 인덱스로 제거: del, pop\n",
    "    - del 리스트명[인덱스]: 리스트의 특정 인덱스에 있는 요소 제거\n",
    "    - 리스트명.pop(인덱스): 매개변수를 입력하지 않으면 마지막 요소 제거\n",
    "- 값으로 제거: remove\n",
    "    - 리스트.remove(값)\n",
    "- 모두 제거: clear\n",
    "    - 리스트.clear(): 리스트 내부의 요소 모두 제거"
   ]
  },
  {
   "cell_type": "code",
   "execution_count": 21,
   "metadata": {},
   "outputs": [
    {
     "name": "stdout",
     "output_type": "stream",
     "text": [
      "[9, 1, 2, 3, 4, 5, 6, 7, 8, 9, 10, 11]\n",
      "[9, 1, 2, 6, 7, 8, 9, 10, 11]\n",
      "[9, 1, 6, 7, 8, 9, 10, 11]\n",
      "[9, 1, 6, 7, 8, 9, 10]\n",
      "[1, 6, 7, 8, 9, 10]\n",
      "[]\n"
     ]
    }
   ],
   "source": [
    "list_a = [9, 0, 1, 2, 3, 4, 5, 6, 7, 8, 9, 10, 11]\n",
    "\n",
    "del list_a[1]\n",
    "print(list_a)\n",
    "\n",
    "\n",
    "del list_a[3:6]\n",
    "print(list_a)\n",
    "\n",
    "\n",
    "list_a.pop(2)\n",
    "print(list_a)\n",
    "\n",
    "\n",
    "list_a.pop()\n",
    "print(list_a)\n",
    "\n",
    "list_a.remove(9)     # remove()함수로 지정한 값이 리스트 내부에 여러개 있어도 가장 먼저 발견되는 하나만 제거\n",
    "print(list_a)\n",
    "\n",
    "list_a.clear()\n",
    "print(list_a)"
   ]
  },
  {
   "cell_type": "markdown",
   "metadata": {},
   "source": [
    "#### 리스트 내부에 있는지 확인: in/ not in"
   ]
  },
  {
   "cell_type": "code",
   "execution_count": 3,
   "metadata": {},
   "outputs": [
    {
     "name": "stdout",
     "output_type": "stream",
     "text": [
      "True\n",
      "False\n",
      "False\n",
      "True\n"
     ]
    }
   ],
   "source": [
    "list_a = [273, 32, 103, 57, 52]\n",
    "\n",
    "print(273 in list_a)\n",
    "print(100 in list_a)\n",
    "print(273 not in list_a)\n",
    "print(100 not in list_a)"
   ]
  },
  {
   "cell_type": "code",
   "execution_count": 8,
   "metadata": {},
   "outputs": [
    {
     "name": "stdout",
     "output_type": "stream",
     "text": [
      "273 는 3 자릿수입니다.\n",
      "103 는 3 자릿수입니다.\n",
      "5 는 1 자릿수입니다.\n",
      "32 는 2 자릿수입니다.\n",
      "65 는 2 자릿수입니다.\n",
      "9 는 1 자릿수입니다.\n",
      "72 는 2 자릿수입니다.\n",
      "800 는 3 자릿수입니다.\n",
      "99 는 2 자릿수입니다.\n"
     ]
    }
   ],
   "source": [
    "numbers = [273, 103, 5, 32, 65, 9, 72, 800, 99]\n",
    "\n",
    "for number in numbers:\n",
    "    print(number, '는', len(str(number)), '자릿수입니다.')"
   ]
  },
  {
   "cell_type": "code",
   "execution_count": 14,
   "metadata": {},
   "outputs": [
    {
     "name": "stdout",
     "output_type": "stream",
     "text": [
      "[[1, 4, 7], [2, 5, 8], [3, 6, 9]]\n"
     ]
    }
   ],
   "source": [
    "numbers = [1, 2, 3, 4, 5, 6, 7, 8, 9]\n",
    "output = [[], [], []]\n",
    "\n",
    "for number in numbers:\n",
    "    output[(number + 2) % 3].append(number)\n",
    "    \n",
    "print(output)"
   ]
  },
  {
   "cell_type": "markdown",
   "metadata": {},
   "source": [
    "#### 딕셔너리 내부에 키가 있는지 확인\n",
    "- in키워드\n",
    "- get()함수: 딕셔너리의 키로 값을 추출하는 기능, 존재하지 않는 키일 경우 None출력"
   ]
  },
  {
   "cell_type": "code",
   "execution_count": 19,
   "metadata": {},
   "outputs": [
    {
     "name": "stdout",
     "output_type": "stream",
     "text": [
      "name\n",
      "망고\n",
      "None\n",
      "당절임\n",
      "name : 망고\n",
      "type : 당절임\n",
      "ingredient : ['망고', '설탕']\n",
      "origin : 필리핀\n"
     ]
    }
   ],
   "source": [
    "dictionary = {'name': '망고', 'type': '당절임', 'ingredient': ['망고', '설탕'], 'origin': '필리핀'}\n",
    "\n",
    "key = input('')\n",
    "\n",
    "if key in dictionary:\n",
    "    print(dictionary[key])\n",
    "else:\n",
    "    print('존재하지 않음')\n",
    "    \n",
    "value = dictionary.get('존재하지 않는 키')\n",
    "print(value)\n",
    "\n",
    "value = dictionary.get('type')\n",
    "print(value)\n",
    "\n",
    "for key in dictionary:\n",
    "    print(key, ':', dictionary[key])"
   ]
  },
  {
   "cell_type": "code",
   "execution_count": 34,
   "metadata": {},
   "outputs": [
    {
     "name": "stdout",
     "output_type": "stream",
     "text": [
      "구름 5살\n",
      "초코 3살\n",
      "아지 1살\n",
      "호랑이 1살\n"
     ]
    }
   ],
   "source": [
    "pets = [\n",
    "    {'name': '구름', 'age':5},\n",
    "    {'name': '초코', 'age':3},\n",
    "    {'name': '아지', 'age':1},\n",
    "    {'name': '호랑이', 'age':1}\n",
    "]\n",
    "\n",
    "for pet in pets:\n",
    "    print(pet['name'], str(pet['age'])+'살')"
   ]
  },
  {
   "cell_type": "code",
   "execution_count": 13,
   "metadata": {},
   "outputs": [
    {
     "name": "stdout",
     "output_type": "stream",
     "text": [
      "{1: 3, 2: 4, 6: 1, 8: 2, 4: 3, 3: 3, 9: 3, 5: 2, 7: 2}\n"
     ]
    }
   ],
   "source": [
    "numbers = [1, 2, 6, 8, 4, 3, 2, 1, 9, 5, 4, 9, 7, 2, 1, 3, 5, 4, 8, 9, 7, 2, 3]\n",
    "counter = {}\n",
    "\n",
    "for number in numbers:\n",
    "    if number in counter:\n",
    "        counter[number] = counter[number] + 1\n",
    "    else:\n",
    "        counter[number] = 1\n",
    "print(counter)"
   ]
  },
  {
   "cell_type": "code",
   "execution_count": 24,
   "metadata": {},
   "outputs": [
    {
     "name": "stdout",
     "output_type": "stream",
     "text": [
      "name : 기사\n",
      "level : 12\n",
      "sword : 검\n",
      "armor : 풀플레이트\n",
      "skill : 베기\n",
      "skill : 세게 베기\n"
     ]
    }
   ],
   "source": [
    "character = {\n",
    "    'name' : '기사', 'level' : 12, 'items' : {'sword' : '검', 'armor' : '풀플레이트'}, 'skill' : ['베기', '세게 베기'] \n",
    "}\n",
    "\n",
    "for key in character:\n",
    "    if type(character[key]) is dict:\n",
    "        for small_key in character[key]:\n",
    "            print(small_key, ':', character[key][small_key])\n",
    "    elif type(character[key]) is list:\n",
    "        for item in character[key]:\n",
    "            print(key, ':', item)\n",
    "    else:\n",
    "        print(key, ':', character[key])"
   ]
  },
  {
   "cell_type": "markdown",
   "metadata": {},
   "source": [
    "#### 반복문"
   ]
  },
  {
   "cell_type": "code",
   "execution_count": 25,
   "metadata": {
    "scrolled": true
   },
   "outputs": [
    {
     "name": "stdout",
     "output_type": "stream",
     "text": [
      "0번째 반복: 273\n",
      "1번째 반복: 32\n",
      "2번째 반복: 103\n",
      "3번째 반복: 57\n",
      "4번째 반복: 52\n"
     ]
    }
   ],
   "source": [
    "array = [273, 32, 103, 57, 52]\n",
    "\n",
    "for i in range(len(array)):\n",
    "    print('{}번째 반복: {}'.format(i, array[i]))"
   ]
  },
  {
   "cell_type": "code",
   "execution_count": 26,
   "metadata": {},
   "outputs": [
    {
     "name": "stdout",
     "output_type": "stream",
     "text": [
      "현재 반복 변수: 4\n",
      "현재 반복 변수: 3\n",
      "현재 반복 변수: 2\n",
      "현재 반복 변수: 1\n",
      "현재 반복 변수: 0\n"
     ]
    }
   ],
   "source": [
    "for i in range(4, -1, -1):\n",
    "    print('현재 반복 변수: {}'.format(i))"
   ]
  },
  {
   "cell_type": "code",
   "execution_count": 27,
   "metadata": {},
   "outputs": [
    {
     "name": "stdout",
     "output_type": "stream",
     "text": [
      "현재 반복 변수: 4\n",
      "현재 반복 변수: 3\n",
      "현재 반복 변수: 2\n",
      "현재 반복 변수: 1\n",
      "현재 반복 변수: 0\n"
     ]
    }
   ],
   "source": [
    "# 위와 같은 결과\n",
    "\n",
    "for i in reversed(range(5)):\n",
    "    print('현재 반복 변수: {}'.format(i))"
   ]
  },
  {
   "cell_type": "code",
   "execution_count": 28,
   "metadata": {},
   "outputs": [
    {
     "name": "stdout",
     "output_type": "stream",
     "text": [
      "0번째 반복입니다.\n",
      "1번째 반복입니다.\n",
      "2번째 반복입니다.\n",
      "3번째 반복입니다.\n",
      "4번째 반복입니다.\n",
      "5번째 반복입니다.\n",
      "6번째 반복입니다.\n",
      "7번째 반복입니다.\n",
      "8번째 반복입니다.\n",
      "9번째 반복입니다.\n"
     ]
    }
   ],
   "source": [
    "i = 0\n",
    "while i < 10:\n",
    "    print('{}번째 반복입니다.'.format(i))\n",
    "    i += 1"
   ]
  },
  {
   "cell_type": "code",
   "execution_count": 29,
   "metadata": {},
   "outputs": [
    {
     "name": "stdout",
     "output_type": "stream",
     "text": [
      "[1, 1, 1]\n"
     ]
    }
   ],
   "source": [
    "list_test = [1, 2, 1, 2, 1, 2]\n",
    "value = 2\n",
    "\n",
    "while value in list_test:\n",
    "    list_test.remove(value)\n",
    "    \n",
    "print(list_test)"
   ]
  },
  {
   "cell_type": "code",
   "execution_count": 40,
   "metadata": {},
   "outputs": [
    {
     "name": "stdout",
     "output_type": "stream",
     "text": [
      "최대가 되는 경우: 50 * 50 = 2500\n"
     ]
    }
   ],
   "source": [
    "max_value = 0\n",
    "a = 0\n",
    "b = 0\n",
    "\n",
    "for i in range(1, 100 // 2 + 1):\n",
    "    j = 100 - i\n",
    "    current = i * j\n",
    "    if max_value < current:\n",
    "        a = i\n",
    "        b = j\n",
    "        max_value = current\n",
    "print('최대가 되는 경우: {} * {} = {}'.format(a, b, max_value))"
   ]
  },
  {
   "cell_type": "markdown",
   "metadata": {},
   "source": [
    "#### 리스트 뒤집기"
   ]
  },
  {
   "cell_type": "code",
   "execution_count": 41,
   "metadata": {},
   "outputs": [
    {
     "data": {
      "text/plain": [
       "[5, 4, 3, 2, 1]"
      ]
     },
     "execution_count": 41,
     "metadata": {},
     "output_type": "execute_result"
    }
   ],
   "source": [
    "numbers = [1, 2, 3, 4, 5]\n",
    "numbers[::-1]"
   ]
  },
  {
   "cell_type": "code",
   "execution_count": 43,
   "metadata": {},
   "outputs": [
    {
     "data": {
      "text/plain": [
       "[5, 4, 3, 2, 1]"
      ]
     },
     "execution_count": 43,
     "metadata": {},
     "output_type": "execute_result"
    }
   ],
   "source": [
    "numbers = [1, 2, 3, 4, 5]\n",
    "numbers_reversed = list(reversed(numbers))\n",
    "numbers_reversed"
   ]
  },
  {
   "cell_type": "markdown",
   "metadata": {},
   "source": [
    "#### enumerate()함수"
   ]
  },
  {
   "cell_type": "code",
   "execution_count": 46,
   "metadata": {},
   "outputs": [
    {
     "name": "stdout",
     "output_type": "stream",
     "text": [
      "[(0, '요소a'), (1, '요소b'), (2, '요소c')]\n",
      "0번째 요소는 요소a입니다.\n",
      "1번째 요소는 요소b입니다.\n",
      "2번째 요소는 요소c입니다.\n"
     ]
    }
   ],
   "source": [
    "example_list = ['요소a', '요소b', '요소c']\n",
    "\n",
    "print(list(enumerate(example_list)))\n",
    "\n",
    "for i, value in enumerate(example_list):\n",
    "    print('{}번째 요소는 {}입니다.'.format(i, value))"
   ]
  },
  {
   "cell_type": "markdown",
   "metadata": {},
   "source": [
    "#### items()함수"
   ]
  },
  {
   "cell_type": "code",
   "execution_count": 48,
   "metadata": {},
   "outputs": [
    {
     "name": "stdout",
     "output_type": "stream",
     "text": [
      "dict_items([('키a', '값a'), ('키b', '값b'), ('키c', '값c')])\n",
      "dictionary[키a] = 값a\n",
      "dictionary[키b] = 값b\n",
      "dictionary[키c] = 값c\n"
     ]
    }
   ],
   "source": [
    "example_dictionary = {'키a':'값a', '키b' : '값b', '키c':'값c'}\n",
    "\n",
    "print(example_dictionary.items())\n",
    "\n",
    "for key, element in example_dictionary.items():\n",
    "    print('dictionary[{}] = {}'.format(key, element))"
   ]
  },
  {
   "cell_type": "markdown",
   "metadata": {},
   "source": [
    "#### 리스트 내포\n",
    "- 리스트 이름 = [표현식 for 반복자 in 반복할 수 있는 것]"
   ]
  },
  {
   "cell_type": "code",
   "execution_count": 49,
   "metadata": {},
   "outputs": [
    {
     "name": "stdout",
     "output_type": "stream",
     "text": [
      "[0, 4, 16, 36, 64, 100, 144, 196, 256, 324]\n"
     ]
    }
   ],
   "source": [
    "array = [i * i for i in range(0, 20, 2)]\n",
    "\n",
    "# 위 코드를 풀어서 쓰면\n",
    "# array = []\n",
    "# for i in range(0, 20, 2):\n",
    "#    array.append(i*i)\n",
    "\n",
    "print(array)"
   ]
  },
  {
   "cell_type": "markdown",
   "metadata": {},
   "source": [
    "#### 조건을 활용한 리스트 내포\n",
    "- 리스트 이름 = [표현식 for 반복자 in 반복할 수 있는 것 if 조건문]"
   ]
  },
  {
   "cell_type": "code",
   "execution_count": 50,
   "metadata": {},
   "outputs": [
    {
     "name": "stdout",
     "output_type": "stream",
     "text": [
      "['사과', '자두', '바나나', '체리']\n"
     ]
    }
   ],
   "source": [
    "array = ['사과', '자두', '초콜릿', '바나나', '체리']\n",
    "\n",
    "output = [fruit for fruit in array if fruit != '초콜릿']\n",
    "\n",
    "print(output)"
   ]
  },
  {
   "cell_type": "markdown",
   "metadata": {},
   "source": [
    "#### 문자열이 여러줄인 경우"
   ]
  },
  {
   "cell_type": "code",
   "execution_count": 51,
   "metadata": {},
   "outputs": [
    {
     "name": "stdout",
     "output_type": "stream",
     "text": [
      "10\n",
      "입력한 문자열은 10입니다.\n",
      "10는(은) 짝수입니다.\n"
     ]
    }
   ],
   "source": [
    "number = int(input(''))\n",
    "\n",
    "if number % 2 == 0:\n",
    "    print(('입력한 문자열은 {}입니다.\\n'\n",
    "          '{}는(은) 짝수입니다.').format(number, number))     # 이런 식으로 괄호로 문자열 연결, \\n은 줄바꿈\n",
    "else:\n",
    "    print(('입력한 문자열은 {}입니다.\\n'\n",
    "          '{}는(은) 홀수입니다.').format(number, number))"
   ]
  },
  {
   "cell_type": "markdown",
   "metadata": {},
   "source": [
    "#### join()함수\n",
    "- 문자열.join(문자열로 구성된 리스트)\n",
    "- join()함수는 리스트의 요소를 문자열로 연결함"
   ]
  },
  {
   "cell_type": "code",
   "execution_count": 52,
   "metadata": {},
   "outputs": [
    {
     "name": "stdout",
     "output_type": "stream",
     "text": [
      "1::2::3::4::5\n"
     ]
    }
   ],
   "source": [
    "print('::'.join(['1', '2', '3', '4', '5']))"
   ]
  },
  {
   "cell_type": "code",
   "execution_count": 53,
   "metadata": {},
   "outputs": [
    {
     "name": "stdout",
     "output_type": "stream",
     "text": [
      "10\n",
      "입력한 문자열은 10입니다.\n",
      "10는(은) 짝수입니다.\n"
     ]
    }
   ],
   "source": [
    "# 위 문자열 여러줄인 경우 해결방법2\n",
    "\n",
    "number = int(input(''))\n",
    "\n",
    "if number % 2 == 0:\n",
    "    print('\\n'.join([\n",
    "        '입력한 문자열은 {}입니다.',\n",
    "        '{}는(은) 짝수입니다.'\n",
    "    ]).format(number, number))\n",
    "else:\n",
    "    print('\\n'.join([\n",
    "        '입력한 문자열은 {}입니다.',\n",
    "        '{}는(은) 홀수입니다.'\n",
    "    ]).format(number, number))"
   ]
  },
  {
   "cell_type": "markdown",
   "metadata": {},
   "source": [
    "#### next()함수"
   ]
  },
  {
   "cell_type": "code",
   "execution_count": 54,
   "metadata": {},
   "outputs": [
    {
     "name": "stdout",
     "output_type": "stream",
     "text": [
      "<list_reverseiterator object at 0x0000015DFE2488C8>\n",
      "6\n",
      "5\n",
      "4\n",
      "3\n",
      "2\n",
      "1\n"
     ]
    }
   ],
   "source": [
    "numbers = [1, 2, 3, 4, 5, 6]\n",
    "r_num = reversed(numbers)\n",
    "\n",
    "print(r_num)\n",
    "print(next(r_num))\n",
    "print(next(r_num))\n",
    "print(next(r_num))\n",
    "print(next(r_num))\n",
    "print(next(r_num))\n",
    "print(next(r_num))"
   ]
  },
  {
   "cell_type": "markdown",
   "metadata": {},
   "source": [
    "#### 2진수, 8진수, 16진수"
   ]
  },
  {
   "cell_type": "code",
   "execution_count": 60,
   "metadata": {},
   "outputs": [
    {
     "name": "stdout",
     "output_type": "stream",
     "text": [
      "1010\n",
      "10\n",
      "0b1010\n"
     ]
    }
   ],
   "source": [
    "# 10진수와 2진수 변환\n",
    "\n",
    "print('{:b}'.format(10))     # 10을 2진수로 변환\n",
    "print(int('1010', 2))     # 2진수 '1010'을 10진수로 변환\n",
    "print(bin(10))"
   ]
  },
  {
   "cell_type": "code",
   "execution_count": 61,
   "metadata": {},
   "outputs": [
    {
     "name": "stdout",
     "output_type": "stream",
     "text": [
      "12\n",
      "10\n",
      "0o12\n"
     ]
    }
   ],
   "source": [
    "# 10진수와 8진수 변환\n",
    "\n",
    "print('{:o}'.format(10))     # 10을 8진수로 변환\n",
    "print(int('12', 8))     # 8진수 '12'를 10진수로 변환\n",
    "print(oct(10))"
   ]
  },
  {
   "cell_type": "code",
   "execution_count": 62,
   "metadata": {},
   "outputs": [
    {
     "name": "stdout",
     "output_type": "stream",
     "text": [
      "a\n",
      "16\n",
      "0xa\n"
     ]
    }
   ],
   "source": [
    "# 10진수와 16진수 변환\n",
    "\n",
    "print('{:x}'.format(10))     # 10을 16진수로 변환\n",
    "print(int('10', 16))     # 16진수 '10'을 10진수로 변환\n",
    "print(hex(10))"
   ]
  },
  {
   "cell_type": "markdown",
   "metadata": {},
   "source": [
    "#### count()함수"
   ]
  },
  {
   "cell_type": "code",
   "execution_count": 63,
   "metadata": {},
   "outputs": [
    {
     "data": {
      "text/plain": [
       "3"
      ]
     },
     "execution_count": 63,
     "metadata": {},
     "output_type": "execute_result"
    }
   ],
   "source": [
    "'aahbbbcd'.count('b')"
   ]
  },
  {
   "cell_type": "markdown",
   "metadata": {},
   "source": [
    "#### 1~100 사이에 있는 숫자 중 2진수로 변환했을 때 0이 하나만 포함된 숫자를 찾고, 그 숫자들의 합을 구하는 문제"
   ]
  },
  {
   "cell_type": "code",
   "execution_count": 1,
   "metadata": {},
   "outputs": [
    {
     "name": "stdout",
     "output_type": "stream",
     "text": [
      "2 : 10\n",
      "5 : 101\n",
      "6 : 110\n",
      "11 : 1011\n",
      "13 : 1101\n",
      "14 : 1110\n",
      "23 : 10111\n",
      "27 : 11011\n",
      "29 : 11101\n",
      "30 : 11110\n",
      "47 : 101111\n",
      "55 : 110111\n",
      "59 : 111011\n",
      "61 : 111101\n",
      "62 : 111110\n",
      "95 : 1011111\n",
      "합계: 539\n"
     ]
    }
   ],
   "source": [
    "output = [i for i in range(1, 101) if '{:b}'.format(i).count('0') == 1]\n",
    "\n",
    "for i in output:\n",
    "    print('{} : {}'.format(i, '{:b}'.format(i)))\n",
    "print('합계:', sum(output))"
   ]
  },
  {
   "cell_type": "markdown",
   "metadata": {},
   "source": [
    "#### '안녕하세요' n번 출력 함수"
   ]
  },
  {
   "cell_type": "code",
   "execution_count": 1,
   "metadata": {},
   "outputs": [
    {
     "name": "stdout",
     "output_type": "stream",
     "text": [
      "안녕하세요\n",
      "안녕하세요\n",
      "안녕하세요\n",
      "안녕하세요\n",
      "안녕하세요\n"
     ]
    }
   ],
   "source": [
    "def print_n_times(value, n):\n",
    "    for i in range(n):\n",
    "        print(value)\n",
    "        \n",
    "print_n_times('안녕하세요', 5)"
   ]
  },
  {
   "cell_type": "markdown",
   "metadata": {},
   "source": [
    "#### 가변 매개변수\n",
    "- def 함수이름(매개변수, 매개변수, ... , *가변 매개변수):\n",
    "- 가변 매개변수 뒤에는 일반 매개변수가 올 수 없음\n",
    "- 가변 매개변수는 하나만 사용"
   ]
  },
  {
   "cell_type": "code",
   "execution_count": 2,
   "metadata": {},
   "outputs": [
    {
     "name": "stdout",
     "output_type": "stream",
     "text": [
      "안녕하세요\n",
      "즐거운\n",
      "파이썬\n",
      "안녕하세요\n",
      "즐거운\n",
      "파이썬\n",
      "안녕하세요\n",
      "즐거운\n",
      "파이썬\n"
     ]
    }
   ],
   "source": [
    "def print_n_times(n, *values):\n",
    "    for i in range(n):\n",
    "        for value in values:\n",
    "            print(value)\n",
    "\n",
    "print_n_times(3, '안녕하세요', '즐거운', '파이썬')"
   ]
  },
  {
   "cell_type": "markdown",
   "metadata": {},
   "source": [
    "#### 범위 내부의 정수를 모두 더하는 함수"
   ]
  },
  {
   "cell_type": "code",
   "execution_count": 5,
   "metadata": {},
   "outputs": [
    {
     "name": "stdout",
     "output_type": "stream",
     "text": [
      "5050\n",
      "2550\n"
     ]
    }
   ],
   "source": [
    "def sum_all(start, end, step):\n",
    "    output = 0\n",
    "    for i in range(start, end + 1, step):\n",
    "        output += i\n",
    "    return output\n",
    "\n",
    "print(sum_all(0, 100, 1))\n",
    "print(sum_all(0, 100, 2))"
   ]
  },
  {
   "cell_type": "markdown",
   "metadata": {},
   "source": [
    "#### 매개변수로 전달된 값들을 모두 곱해서 리턴하는 가변 매개변수 함수"
   ]
  },
  {
   "cell_type": "code",
   "execution_count": 14,
   "metadata": {},
   "outputs": [
    {
     "name": "stdout",
     "output_type": "stream",
     "text": [
      "3150\n"
     ]
    }
   ],
   "source": [
    "def mul(*values):\n",
    "    output = 1\n",
    "    for value in values:\n",
    "        output *= value\n",
    "    return output\n",
    "print(mul(5, 7, 9, 10))"
   ]
  },
  {
   "cell_type": "markdown",
   "metadata": {},
   "source": [
    "#### 재귀 함수를 사용해 팩토리얼 구하기"
   ]
  },
  {
   "cell_type": "code",
   "execution_count": 17,
   "metadata": {},
   "outputs": [
    {
     "data": {
      "text/plain": [
       "120"
      ]
     },
     "execution_count": 17,
     "metadata": {},
     "output_type": "execute_result"
    }
   ],
   "source": [
    "def factorial(n):\n",
    "    if n == 0:\n",
    "        return 1\n",
    "    else:\n",
    "        return n * factorial(n - 1)\n",
    "\n",
    "factorial(5)"
   ]
  },
  {
   "cell_type": "markdown",
   "metadata": {},
   "source": [
    "#### 재귀 함수로 피보나치 수열 구현하는 함수"
   ]
  },
  {
   "cell_type": "code",
   "execution_count": 20,
   "metadata": {},
   "outputs": [
    {
     "name": "stdout",
     "output_type": "stream",
     "text": [
      "Wall time: 32min 14s\n"
     ]
    },
    {
     "data": {
      "text/plain": [
       "12586269025"
      ]
     },
     "execution_count": 20,
     "metadata": {},
     "output_type": "execute_result"
    }
   ],
   "source": [
    "%%time\n",
    "\n",
    "def fibonacci(n):\n",
    "    if n == 1:\n",
    "        return 1\n",
    "    elif n == 2:\n",
    "        return 1\n",
    "    else:\n",
    "        return fibonacci(n - 1) + fibonacci(n - 2)\n",
    "    \n",
    "fibonacci(50)"
   ]
  },
  {
   "cell_type": "markdown",
   "metadata": {},
   "source": [
    "- 재귀함수로 피보나치 수열을 구현해보면 같은 연산을 여러번 반복하기 때문에 시간이 오래 걸림\n",
    "- 이를 해결하기 위해 메모화 방법 사용"
   ]
  },
  {
   "cell_type": "markdown",
   "metadata": {},
   "source": [
    "#### 메모화를 사용하여 재귀함수로 피보나치 수열 구현 함수"
   ]
  },
  {
   "cell_type": "code",
   "execution_count": 21,
   "metadata": {},
   "outputs": [
    {
     "name": "stdout",
     "output_type": "stream",
     "text": [
      "Wall time: 0 ns\n"
     ]
    },
    {
     "data": {
      "text/plain": [
       "12586269025"
      ]
     },
     "execution_count": 21,
     "metadata": {},
     "output_type": "execute_result"
    }
   ],
   "source": [
    "%%time\n",
    "\n",
    "dictionary = {1: 1, 2: 1}\n",
    "\n",
    "def fibonacci(n):\n",
    "    if n in dictionary:\n",
    "        # 메모가 되어 있으면 메모된 값을 리턴\n",
    "        return dictionary[n]\n",
    "    else:\n",
    "        # 메모가 되어 있지 않으면 값을 구함\n",
    "        output = fibonacci(n - 1) + fibonacci(n - 2)\n",
    "        dictionary[n] = output\n",
    "        return output\n",
    "    \n",
    "fibonacci(50)"
   ]
  },
  {
   "cell_type": "markdown",
   "metadata": {},
   "source": [
    "#### 재귀 함수를 이용하여 리스트를 평탄화하는 함수(중첩된 리스트가 있을 때 중첩을 모두 제거하여 1차원 리스트로 만드는 것)"
   ]
  },
  {
   "cell_type": "code",
   "execution_count": 22,
   "metadata": {},
   "outputs": [
    {
     "name": "stdout",
     "output_type": "stream",
     "text": [
      "원본:  [[1, 2, 3], [4, [5, 6]], 7, [8, 9]]\n",
      "리스트 평탄화:  [1, 2, 3, 4, 5, 6, 7, 8, 9]\n"
     ]
    }
   ],
   "source": [
    "def flatten(data):\n",
    "    output = []\n",
    "    for item in data:\n",
    "        if type(item) == list:\n",
    "            output += flatten(item)\n",
    "        else:\n",
    "            output.append(item)\n",
    "    return output    \n",
    "    \n",
    "example = [[1, 2, 3], [4, [5, 6]], 7, [8, 9]]\n",
    "print('원본: ', example)\n",
    "print('리스트 평탄화: ', flatten(example))"
   ]
  },
  {
   "cell_type": "markdown",
   "metadata": {},
   "source": [
    "#### 예제\n",
    "- 레스토랑에서 여러 개의 테이블에 나누어 앉으려고 함\n",
    "- 한 사람만 앉는 테이블이 없게 그룹을 지어야 함\n",
    "- 인원 수를 나누는 패턴만 구하면 되며, 누가 어디에 앉는지 등은 고려하지 않음\n",
    "- 예를 들어 6명이라면 (2, 2, 2), (2, 4), (3, 3), (6)의 4가지 경우를 생각할 수 있음\n",
    "- 한 개의 테이블에 앉을 수 있는 최대 사람의 수는 10명\n",
    "- 100명의 사람이 하나 이상의 테이블에 나누어 앉는 경우의 수는?"
   ]
  },
  {
   "cell_type": "code",
   "execution_count": 23,
   "metadata": {},
   "outputs": [
    {
     "name": "stdout",
     "output_type": "stream",
     "text": [
      "437420\n"
     ]
    }
   ],
   "source": [
    "min_sit = 2     # 앉힐 수 있는 최소 사람 수\n",
    "max_sit = 10     # 앉힐 수 있는 최대 사람 수 \n",
    "people = 100     # 전체 사람 수\n",
    "memo = {}\n",
    "\n",
    "def problem(remain_people, sit_people):     # 남은 사람 수, 앉힌 사람 수\n",
    "    key = str([remain_people, sit_people])\n",
    "    \n",
    "    #종류 조건\n",
    "    if key in memo:\n",
    "        return memo[key]\n",
    "    if remain_people < 0:\n",
    "        return 0     # 무효이므로 0을 리턴\n",
    "    elif remain_people == 0:\n",
    "        return 1     # 유효하므로 수를 세기 위해 1을 리턴\n",
    "    \n",
    "    # 재귀 처리\n",
    "    count = 0\n",
    "    for i in range(sit_people, max_sit + 1):\n",
    "        count += problem(remain_people - i, i)\n",
    "        \n",
    "    # 메모화 처리\n",
    "    memo[key] = count\n",
    "    \n",
    "    # 종료\n",
    "    return count\n",
    "    \n",
    "print(problem(people, min_sit))"
   ]
  },
  {
   "cell_type": "markdown",
   "metadata": {},
   "source": [
    "#### divmod()함수: 몫(//)과 나머지(%)를 튜플 형태로 리턴"
   ]
  },
  {
   "cell_type": "code",
   "execution_count": 26,
   "metadata": {},
   "outputs": [
    {
     "name": "stdout",
     "output_type": "stream",
     "text": [
      "(2, 17)\n",
      "2\n",
      "17\n"
     ]
    }
   ],
   "source": [
    "a, b = 97, 40\n",
    "print(divmod(a, b))\n",
    "x, y = divmod(a, b)\n",
    "print(x)\n",
    "print(y)"
   ]
  },
  {
   "cell_type": "markdown",
   "metadata": {},
   "source": [
    "#### map()함수와 filter()함수\n",
    "- map()함수: 리스트의 요소를 함수에 넣고 리턴된 값으로 새로운 리스트를 구성해 주는 함수\n",
    "    - map(함수, 리스트)\n",
    "- filter()함수는 리스트의 요소를 함수에 넣고 리턴된 값이 True인 것으로, 새로운 리스트를 구성해 주는 함수\n",
    "    - filter(함수, 리스트)"
   ]
  },
  {
   "cell_type": "code",
   "execution_count": 27,
   "metadata": {},
   "outputs": [
    {
     "name": "stdout",
     "output_type": "stream",
     "text": [
      "[1, 4, 9, 16, 25]\n",
      "[1, 2]\n"
     ]
    }
   ],
   "source": [
    "def power(item):\n",
    "    return item * item\n",
    "def under_3(item):\n",
    "    return item < 3\n",
    "\n",
    "example = [1, 2, 3, 4, 5]\n",
    "\n",
    "output_a = map(power, example)\n",
    "print(list(output_a))\n",
    "\n",
    "output_b = filter(under_3, example)\n",
    "print(list(output_b))"
   ]
  },
  {
   "cell_type": "code",
   "execution_count": 35,
   "metadata": {},
   "outputs": [
    {
     "name": "stdout",
     "output_type": "stream",
     "text": [
      "1::2::3::4::5::6\n"
     ]
    }
   ],
   "source": [
    "numbers = [1, 2, 3, 4, 5, 6]\n",
    "print('::'.join(map(str,numbers)))"
   ]
  },
  {
   "cell_type": "markdown",
   "metadata": {},
   "source": [
    "#### lambda: 간단한 함수를 쉽게 선언하는 방법\n",
    "- lambda 매개변수: 리턴값\n",
    "- lambda x, y: x * y처럼 매개변수 여러개 넣을 수도 있음"
   ]
  },
  {
   "cell_type": "code",
   "execution_count": 28,
   "metadata": {},
   "outputs": [
    {
     "name": "stdout",
     "output_type": "stream",
     "text": [
      "[1, 4, 9, 16, 25]\n",
      "[1, 2]\n"
     ]
    }
   ],
   "source": [
    "# 위 코드에서 power함수와 under_3함수를 람다로 바꿔서 표현\n",
    "\n",
    "power = lambda x: x * x\n",
    "under_3 = lambda x: x < 3\n",
    "\n",
    "example = [1, 2, 3, 4, 5]\n",
    "\n",
    "output_a = map(power, example)\n",
    "print(list(output_a))\n",
    "\n",
    "output_b = filter(under_3, example)\n",
    "print(list(output_b))"
   ]
  },
  {
   "cell_type": "code",
   "execution_count": 29,
   "metadata": {},
   "outputs": [
    {
     "name": "stdout",
     "output_type": "stream",
     "text": [
      "[1, 4, 9, 16, 25]\n",
      "[1, 2]\n"
     ]
    }
   ],
   "source": [
    "# 위 코드처럼 함수를 따로 선언하지 않고 매개변수로 바로 넣을 수도 있음\n",
    "\n",
    "example = [1, 2, 3, 4, 5]\n",
    "\n",
    "output_a = map(lambda x: x * x, example)\n",
    "print(list(output_a))\n",
    "\n",
    "output_b = filter(lambda x: x < 3, example)\n",
    "print(list(output_b))"
   ]
  },
  {
   "cell_type": "code",
   "execution_count": 37,
   "metadata": {},
   "outputs": [
    {
     "name": "stdout",
     "output_type": "stream",
     "text": [
      "[1, 3, 5, 7, 9]\n",
      "[3, 4, 5, 6]\n",
      "[1, 2, 3, 4, 5, 6, 7]\n"
     ]
    }
   ],
   "source": [
    "numbers = list(range(1, 11))\n",
    "\n",
    "print(list(filter(lambda x: x % 2 == 1, numbers)))     # 홀수만 추출\n",
    "print(list(filter(lambda x: 3 <= x < 7, numbers)))     # 3이상 7미만 추출\n",
    "print(list(filter(lambda x: x ** 2 < 50, numbers)))     # 제곱해서 50미만 추출"
   ]
  },
  {
   "cell_type": "markdown",
   "metadata": {},
   "source": [
    "#### 예외처리: try except구문\n",
    "- try구문은 단독으로 사용 불가. 반드시 except구문 또는 finally구문과 함께 사용\n",
    "- else 구문은 반드시 except 구문 뒤에 사용\n",
    "- 가능한 조합\n",
    "    - try + except\n",
    "    - try + except + else\n",
    "    - try + except + finally\n",
    "    - try + except + else + finally\n",
    "    - try + finally"
   ]
  },
  {
   "cell_type": "code",
   "execution_count": 2,
   "metadata": {},
   "outputs": [
    {
     "name": "stdout",
     "output_type": "stream",
     "text": [
      "예외\n",
      "정수가 입력되지 않았습니다.\n"
     ]
    }
   ],
   "source": [
    "try:\n",
    "    number = int(input(''))     # 예외가 발생할 가능성이 있는 구문\n",
    "    print(number)\n",
    "except:\n",
    "    print('정수가 입력되지 않았습니다.')     # 예외가 발생했을 때 실행할 구문"
   ]
  },
  {
   "cell_type": "code",
   "execution_count": 3,
   "metadata": {},
   "outputs": [
    {
     "name": "stdout",
     "output_type": "stream",
     "text": [
      "['52', '273', '32', '103']\n"
     ]
    }
   ],
   "source": [
    "# 숫자로 변환되는 것들만 리스트에 넣기\n",
    "\n",
    "list_a = ['52', '273', '32', '스파이', '103']\n",
    "\n",
    "list_number = []\n",
    "for item in list_a:\n",
    "    try:\n",
    "        float(item)     # 예외가 발생하면 알아서 진행 안됨\n",
    "        list_number.append(item)     # 예외 없이 통과했으면 리스트에 추가\n",
    "    except:\n",
    "        pass     # 예외가 발생했으면 알아서 패스\n",
    "    \n",
    "print(list_number)"
   ]
  },
  {
   "cell_type": "code",
   "execution_count": 5,
   "metadata": {},
   "outputs": [
    {
     "name": "stdout",
     "output_type": "stream",
     "text": [
      "ㅇ\n",
      "정수를 입력하지 않았습니다.\n"
     ]
    }
   ],
   "source": [
    "# try except else 구문\n",
    "\n",
    "try:\n",
    "    number_a = int(input(''))     # 예외가 발생할 가능성이 있는 코드\n",
    "except:\n",
    "    print('정수를 입력하지 않았습니다.')     # 예외가 발생했을 때 실행할 코드\n",
    "else:\n",
    "    print(number_a)     # 예외가 발생하지 않았을 때 실행할 코드"
   ]
  },
  {
   "cell_type": "code",
   "execution_count": 7,
   "metadata": {},
   "outputs": [
    {
     "name": "stdout",
     "output_type": "stream",
     "text": [
      "ㅇ\n",
      "정수를 입력하지 않았습니다.\n",
      "프로그램이 끝났습니다.\n"
     ]
    }
   ],
   "source": [
    "# try except else finally 구문\n",
    "\n",
    "try:\n",
    "    number_a = int(input(''))     # 예외가 발생할 가능성이 있는 코드\n",
    "    print(number_a)\n",
    "except:\n",
    "    print('정수를 입력하지 않았습니다.')     # 예외가 발생했을 때 실행할 코드\n",
    "else:\n",
    "    print('예외가 발생하지 않았습니다.')     # 예외가 발생하지 않았을 때 실행할 코드\n",
    "finally:\n",
    "    print('프로그램이 끝났습니다.')     # 무조건 실행할 코드"
   ]
  },
  {
   "cell_type": "markdown",
   "metadata": {},
   "source": [
    "#### random모듈"
   ]
  },
  {
   "cell_type": "code",
   "execution_count": 8,
   "metadata": {},
   "outputs": [
    {
     "name": "stdout",
     "output_type": "stream",
     "text": [
      "-random():  0.11015290965175206\n",
      "-uniform(10, 20):  16.65289160503387\n",
      "-randrange(10):  1\n",
      "-choice([1, 2, 3, 4, 5]):  3\n",
      "-shuffle([1, 2, 3, 4, 5]):  None\n",
      "-sample([1, 2, 3, 4, 5], k = 2):  [2, 4]\n"
     ]
    }
   ],
   "source": [
    "import random\n",
    "\n",
    "# random(): 0.0 <= x < 1.0 사이의 float를 리턴\n",
    "print('-random(): ', random.random())\n",
    "\n",
    "# uniform(min, max): 지정한 범위 사이의 float를 리턴\n",
    "print('-uniform(10, 20): ', random.uniform(10, 20))\n",
    "\n",
    "# randrange(): 지정한 범위의 int를 리턴\n",
    "# - randrange(max): 0부터 max 사이의 값을 리턴\n",
    "# - randrange(min, max): min부터 max 사이의 값을 리턴\n",
    "print('-randrange(10): ', random.randrange(10))\n",
    "\n",
    "# choice(list): 리스트 내부에 있는 요소를 랜덤하게 선택함\n",
    "print('-choice([1, 2, 3, 4, 5]): ', random.choice([1, 2, 3, 4, 5]))\n",
    "\n",
    "# shuffle(list): 리스트의 요소들을 랜덤하게 섞습니다.\n",
    "print('-shuffle([1, 2, 3, 4, 5]): ', random.shuffle([1, 2, 3, 4, 5]))\n",
    "\n",
    "# sample(list, k = 숫자): 리스트의 요소 중에 k개를 뽑음\n",
    "print('-sample([1, 2, 3, 4, 5], k = 2): ', random.sample([1, 2, 3, 4, 5], k = 2))"
   ]
  },
  {
   "cell_type": "markdown",
   "metadata": {},
   "source": [
    "#### sys 모듈"
   ]
  },
  {
   "cell_type": "code",
   "execution_count": 9,
   "metadata": {},
   "outputs": [
    {
     "name": "stdout",
     "output_type": "stream",
     "text": [
      "version:  3.7.6 (default, Jan  8 2020, 20:23:39) [MSC v.1916 64 bit (AMD64)]\n"
     ]
    }
   ],
   "source": [
    "import sys\n",
    "\n",
    "print('version: ', sys.version)     # 버전 확인"
   ]
  },
  {
   "cell_type": "markdown",
   "metadata": {},
   "source": [
    "#### os 모듈"
   ]
  },
  {
   "cell_type": "code",
   "execution_count": 10,
   "metadata": {},
   "outputs": [
    {
     "name": "stdout",
     "output_type": "stream",
     "text": [
      "현재 운영체제:  nt\n",
      "현재 폴더:  C:\\Users\\psuny\\Desktop\n",
      "현재 폴더 내부의 요소:  ['.ipynb_checkpoints', 'data', 'desktop.ini', 'git 사용법.txt', 'git에 넣을 것', 'RStudio.lnk', 'seoul.csv', 'Visual Studio Code.lnk', '~$최신it term paper ppt.pptx', '다운로드 - 바로 가기.lnk', '대학원', '데이터분석', '러닝스푼즈데이터분석가_파이썬_포트폴리오_패키지_강의자료_s0jijzp_ibaddLi', '매경', '바탕화면정리', '박선영', '서울기온데이터분석.ipynb', '취준', '파이썬 기초 복습.ipynb', '포트폴리오 작성팁.txt', '혼자공부하는파이썬']\n"
     ]
    }
   ],
   "source": [
    "import os\n",
    "\n",
    "print('현재 운영체제: ', os.name)\n",
    "print('현재 폴더: ', os.getcwd())\n",
    "print('현재 폴더 내부의 요소: ', os.listdir())"
   ]
  },
  {
   "cell_type": "markdown",
   "metadata": {},
   "source": [
    "#### datetime 모듈\n",
    "- timedelta()함수를 사용하면 특정한 시간의 이전 또는 이후를 구할 수 있음"
   ]
  },
  {
   "cell_type": "code",
   "execution_count": 2,
   "metadata": {},
   "outputs": [
    {
     "name": "stdout",
     "output_type": "stream",
     "text": [
      "# 현재 시각 출력\n",
      "2022 년\n",
      "1 월\n",
      "8 일\n",
      "18 시\n",
      "36 분\n",
      "10 초\n",
      "\n",
      "# 시간을 포맷에 맞춰 출력하기\n",
      "2022.01.08 18:36:10\n",
      "2022년 1월 8일 18시 36분 10초\n",
      "2022년 01월 08일 18시 36분 10초\n",
      "\n",
      "# datetime.timedelta로 시간 더하기\n",
      "2022년 01월 16일 19시 37분 11초\n",
      "\n",
      "# now.replace()로 1년 더하기\n",
      "2023년 01월 08일 18시 36분 10초\n"
     ]
    }
   ],
   "source": [
    "import datetime\n",
    "\n",
    "# 현재시각\n",
    "print('# 현재 시각 출력')\n",
    "now = datetime.datetime.now()     # 현재시각\n",
    "print(now.year, '년')\n",
    "print(now.month, '월')\n",
    "print(now.day, '일')\n",
    "print(now.hour, '시')\n",
    "print(now.minute, '분')\n",
    "print(now.second, '초')\n",
    "\n",
    "print()\n",
    "\n",
    "# 시간 출력 방법\n",
    "print('# 시간을 포맷에 맞춰 출력하기')\n",
    "output_a = now.strftime('%Y.%m.%d %H:%M:%S')\n",
    "print(output_a)\n",
    "\n",
    "output_b = '{}년 {}월 {}일 {}시 {}분 {}초'.format(now.year, now.month, now.day, now.hour, now.minute, now.second)\n",
    "print(output_b)\n",
    "\n",
    "output_c = now.strftime('%Y{} %m{} %d{} %H{} %M{} %S{}').format(*'년월일시분초')\n",
    "# 문자열, 리스트 등 앞에 *을 붙이면 요소 하나하나가 매개변수로 지정됨\n",
    "print(output_c)\n",
    "\n",
    "print()\n",
    "\n",
    "# 특정 시간 이후의 시간 구하기\n",
    "print('# datetime.timedelta로 시간 더하기')\n",
    "after = now + datetime.timedelta(weeks = 1, days = 1, hours = 1, minutes = 1, seconds = 1)\n",
    "print(after.strftime('%Y{} %m{} %d{} %H{} %M{} %S{}').format(*'년월일시분초'))\n",
    "\n",
    "print()\n",
    "\n",
    "# 특정 시간 요소 교체하기\n",
    "print('# now.replace()로 1년 더하기')\n",
    "output = now.replace(year = (now.year + 1))\n",
    "print(output.strftime('%Y{} %m{} %d{} %H{} %M{} %S{}').format(*'년월일시분초'))"
   ]
  },
  {
   "cell_type": "markdown",
   "metadata": {},
   "source": [
    "#### 현재 디렉터리를 읽어 들이고 파일인지 디렉터리인지 구분"
   ]
  },
  {
   "cell_type": "code",
   "execution_count": 5,
   "metadata": {},
   "outputs": [
    {
     "name": "stdout",
     "output_type": "stream",
     "text": [
      "['.ipynb_checkpoints', 'data', 'desktop.ini', 'git 사용법.txt', 'git에 넣을 것', 'RStudio.lnk', 'seoul.csv', 'Visual Studio Code.lnk', '~$최신it term paper ppt.pptx', '다운로드 - 바로 가기.lnk', '대학원', '데이터분석', '러닝스푼즈데이터분석가_파이썬_포트폴리오_패키지_강의자료_s0jijzp_ibaddLi', '매경', '바탕화면정리', '박선영', '서울기온데이터분석.ipynb', '취준', '파이썬 기초 복습.ipynb', '포트폴리오 작성팁.txt', '혼자공부하는파이썬']\n",
      "\n",
      "# 폴더와 파일 구분하기\n",
      "폴더:  .ipynb_checkpoints\n",
      "폴더:  data\n",
      "파일:  desktop.ini\n",
      "파일:  git 사용법.txt\n",
      "폴더:  git에 넣을 것\n",
      "파일:  RStudio.lnk\n",
      "파일:  seoul.csv\n",
      "파일:  Visual Studio Code.lnk\n",
      "파일:  ~$최신it term paper ppt.pptx\n",
      "파일:  다운로드 - 바로 가기.lnk\n",
      "폴더:  대학원\n",
      "폴더:  데이터분석\n",
      "폴더:  러닝스푼즈데이터분석가_파이썬_포트폴리오_패키지_강의자료_s0jijzp_ibaddLi\n",
      "폴더:  매경\n",
      "폴더:  바탕화면정리\n",
      "폴더:  박선영\n",
      "파일:  서울기온데이터분석.ipynb\n",
      "폴더:  취준\n",
      "파일:  파이썬 기초 복습.ipynb\n",
      "파일:  포트폴리오 작성팁.txt\n",
      "폴더:  혼자공부하는파이썬\n",
      "\n"
     ]
    }
   ],
   "source": [
    "import os\n",
    "\n",
    "# 현재 폴더의 파일/폴더를 출력\n",
    "output = os.listdir('.')\n",
    "print(output)\n",
    "\n",
    "print()\n",
    "\n",
    "# 현재 폴더의 파일/폴더를 구분\n",
    "print('# 폴더와 파일 구분하기')\n",
    "for path in output:\n",
    "    if os.path.isdir(path):\n",
    "        print('폴더: ', path)\n",
    "    else:\n",
    "        print('파일: ', path)\n",
    "        \n",
    "print()\n",
    "        \n",
    "# 현재 폴더 내부에 있는 모든 파일 탐색(실행 안함)\n",
    "# 폴더를 읽어 들이는 함수\n",
    "def read_folder(path):\n",
    "    # 폴더의 요소 읽어 들이기\n",
    "    output = os.listdir(path)\n",
    "    \n",
    "    # 폴더의 요소 구분하기\n",
    "    for item in output:\n",
    "        if os.path.isdir(item):\n",
    "            # 폴더라면 계속 읽어 들이기\n",
    "            read_folder(item)\n",
    "        else:\n",
    "            # 파일이라면 출력하기\n",
    "            print('파일: ', item)\n",
    "\n",
    "# 현재 폴더의 파일/폴더 출력\n",
    "read_folder('.')"
   ]
  },
  {
   "cell_type": "markdown",
   "metadata": {},
   "source": [
    "#### beautifulsoup 모듈로 기상청에서 날씨정보 가져오기"
   ]
  },
  {
   "cell_type": "code",
   "execution_count": 6,
   "metadata": {},
   "outputs": [
    {
     "name": "stdout",
     "output_type": "stream",
     "text": [
      "도시:  서울\n",
      "날씨:  맑음\n",
      "최저기온:  -8\n",
      "최고기온:  -3\n",
      "\n",
      "도시:  인천\n",
      "날씨:  맑음\n",
      "최저기온:  -8\n",
      "최고기온:  -4\n",
      "\n",
      "도시:  수원\n",
      "날씨:  맑음\n",
      "최저기온:  -7\n",
      "최고기온:  -2\n",
      "\n",
      "도시:  파주\n",
      "날씨:  맑음\n",
      "최저기온:  -11\n",
      "최고기온:  -3\n",
      "\n",
      "도시:  이천\n",
      "날씨:  맑음\n",
      "최저기온:  -6\n",
      "최고기온:  -2\n",
      "\n",
      "도시:  평택\n",
      "날씨:  맑음\n",
      "최저기온:  -7\n",
      "최고기온:  -2\n",
      "\n",
      "도시:  춘천\n",
      "날씨:  맑음\n",
      "최저기온:  -8\n",
      "최고기온:  -2\n",
      "\n",
      "도시:  원주\n",
      "날씨:  맑음\n",
      "최저기온:  -6\n",
      "최고기온:  -2\n",
      "\n",
      "도시:  강릉\n",
      "날씨:  맑음\n",
      "최저기온:  -1\n",
      "최고기온:  3\n",
      "\n",
      "도시:  대전\n",
      "날씨:  구름많고 눈\n",
      "최저기온:  -4\n",
      "최고기온:  0\n",
      "\n",
      "도시:  세종\n",
      "날씨:  구름많고 눈\n",
      "최저기온:  -4\n",
      "최고기온:  -1\n",
      "\n",
      "도시:  홍성\n",
      "날씨:  구름많고 눈\n",
      "최저기온:  -6\n",
      "최고기온:  -2\n",
      "\n",
      "도시:  청주\n",
      "날씨:  구름많음\n",
      "최저기온:  -4\n",
      "최고기온:  -1\n",
      "\n",
      "도시:  충주\n",
      "날씨:  구름많음\n",
      "최저기온:  -6\n",
      "최고기온:  -2\n",
      "\n",
      "도시:  영동\n",
      "날씨:  구름많음\n",
      "최저기온:  -5\n",
      "최고기온:  0\n",
      "\n",
      "도시:  광주\n",
      "날씨:  흐리고 눈\n",
      "최저기온:  -1\n",
      "최고기온:  1\n",
      "\n",
      "도시:  목포\n",
      "날씨:  흐리고 눈\n",
      "최저기온:  -1\n",
      "최고기온:  0\n",
      "\n",
      "도시:  여수\n",
      "날씨:  흐리고 눈\n",
      "최저기온:  1\n",
      "최고기온:  3\n",
      "\n",
      "도시:  순천\n",
      "날씨:  흐리고 눈\n",
      "최저기온:  -1\n",
      "최고기온:  2\n",
      "\n",
      "도시:  광양\n",
      "날씨:  흐리고 눈\n",
      "최저기온:  0\n",
      "최고기온:  3\n",
      "\n",
      "도시:  나주\n",
      "날씨:  흐리고 눈\n",
      "최저기온:  -3\n",
      "최고기온:  1\n",
      "\n",
      "도시:  전주\n",
      "날씨:  흐리고 눈\n",
      "최저기온:  -3\n",
      "최고기온:  0\n",
      "\n",
      "도시:  군산\n",
      "날씨:  흐리고 눈\n",
      "최저기온:  -3\n",
      "최고기온:  -1\n",
      "\n",
      "도시:  정읍\n",
      "날씨:  흐리고 눈\n",
      "최저기온:  -3\n",
      "최고기온:  -1\n",
      "\n",
      "도시:  남원\n",
      "날씨:  흐리고 눈\n",
      "최저기온:  -3\n",
      "최고기온:  0\n",
      "\n",
      "도시:  고창\n",
      "날씨:  흐리고 눈\n",
      "최저기온:  -3\n",
      "최고기온:  -1\n",
      "\n",
      "도시:  무주\n",
      "날씨:  흐리고 눈\n",
      "최저기온:  -5\n",
      "최고기온:  -1\n",
      "\n",
      "도시:  부산\n",
      "날씨:  구름많음\n",
      "최저기온:  2\n",
      "최고기온:  5\n",
      "\n",
      "도시:  울산\n",
      "날씨:  구름많음\n",
      "최저기온:  1\n",
      "최고기온:  3\n",
      "\n",
      "도시:  창원\n",
      "날씨:  구름많음\n",
      "최저기온:  -1\n",
      "최고기온:  4\n",
      "\n",
      "도시:  진주\n",
      "날씨:  구름많음\n",
      "최저기온:  -2\n",
      "최고기온:  4\n",
      "\n",
      "도시:  거창\n",
      "날씨:  구름많음\n",
      "최저기온:  -4\n",
      "최고기온:  1\n",
      "\n",
      "도시:  통영\n",
      "날씨:  구름많음\n",
      "최저기온:  1\n",
      "최고기온:  5\n",
      "\n",
      "도시:  대구\n",
      "날씨:  구름많음\n",
      "최저기온:  -2\n",
      "최고기온:  2\n",
      "\n",
      "도시:  안동\n",
      "날씨:  구름많음\n",
      "최저기온:  -4\n",
      "최고기온:  0\n",
      "\n",
      "도시:  포항\n",
      "날씨:  구름많음\n",
      "최저기온:  0\n",
      "최고기온:  3\n",
      "\n",
      "도시:  경주\n",
      "날씨:  구름많음\n",
      "최저기온:  -2\n",
      "최고기온:  2\n",
      "\n",
      "도시:  울진\n",
      "날씨:  구름많음\n",
      "최저기온:  -1\n",
      "최고기온:  4\n",
      "\n",
      "도시:  울릉도\n",
      "날씨:  구름많음\n",
      "최저기온:  1\n",
      "최고기온:  1\n",
      "\n",
      "도시:  제주\n",
      "날씨:  흐리고 비/눈\n",
      "최저기온:  5\n",
      "최고기온:  5\n",
      "\n",
      "도시:  서귀포\n",
      "날씨:  흐리고 비/눈\n",
      "최저기온:  5\n",
      "최고기온:  7\n",
      "\n"
     ]
    }
   ],
   "source": [
    "from urllib import request\n",
    "from bs4 import BeautifulSoup\n",
    "\n",
    "# urlopen()함수로 기상청의 전국 날씨 읽기\n",
    "target = request.urlopen('http://www.kma.go.kr/weather/forecast/mid-term-rss3.jsp?stnId=108')\n",
    "\n",
    "# BeautifulSoup을 사용해 웹 페이지 분석\n",
    "soup = BeautifulSoup(target, 'html.parser')\n",
    "\n",
    "# location 태그 찾기\n",
    "for location in soup.select('location'):     # 태그를 여러 개 선택할 때는 select()함수\n",
    "    # 내부의 city, wf, tmn, tmx 태그를 찾아 출력\n",
    "    print('도시: ', location.select_one('city').string)     # 태그를 하나만 선택할 때는 select_one()함수\n",
    "    print('날씨: ', location.select_one('wf').string)\n",
    "    print('최저기온: ', location.select_one('tmn').string)\n",
    "    print('최고기온: ', location.select_one('tmx').string)\n",
    "    print()"
   ]
  },
  {
   "cell_type": "code",
   "execution_count": null,
   "metadata": {},
   "outputs": [],
   "source": []
  }
 ],
 "metadata": {
  "kernelspec": {
   "display_name": "Python 3",
   "language": "python",
   "name": "python3"
  },
  "language_info": {
   "codemirror_mode": {
    "name": "ipython",
    "version": 3
   },
   "file_extension": ".py",
   "mimetype": "text/x-python",
   "name": "python",
   "nbconvert_exporter": "python",
   "pygments_lexer": "ipython3",
   "version": "3.7.6"
  }
 },
 "nbformat": 4,
 "nbformat_minor": 4
}
